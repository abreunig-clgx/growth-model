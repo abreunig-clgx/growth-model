{
 "cells": [
  {
   "cell_type": "code",
   "execution_count": 458,
   "metadata": {},
   "outputs": [],
   "source": [
    "import momepy\n",
    "import geopandas as gpd\n",
    "import pandas as pd\n",
    "import numpy as np\n",
    "import matplotlib.pyplot as plt\n",
    "from libpysal.weights import Queen, Rook, KNN\n",
    "%matplotlib inline"
   ]
  },
  {
   "cell_type": "code",
   "execution_count": 459,
   "metadata": {},
   "outputs": [],
   "source": [
    "parcels = gpd.read_file('parcels_wdev2.shp')"
   ]
  },
  {
   "cell_type": "code",
   "execution_count": 460,
   "metadata": {},
   "outputs": [],
   "source": [
    "parcels = parcels.reset_index()[['index', 'geometry']]\n",
    "parcels = parcels.rename(columns={'index': 'ID'})\n",
    "parcels.to_file('parcels_wdev2.shp')"
   ]
  },
  {
   "cell_type": "code",
   "execution_count": 461,
   "metadata": {},
   "outputs": [
    {
     "data": {
      "image/png": "[encoded data removed]",
      "text/plain": [
       "<Figure size 640x480 with 1 Axes>"
      ]
     },
     "metadata": {},
     "output_type": "display_data"
    }
   ],
   "source": [
    "ax = parcels.plot()\n",
    "ax.set_axis_off()"
   ]
  },
  {
   "cell_type": "code",
   "execution_count": 462,
   "metadata": {},
   "outputs": [],
   "source": [
    "crs = parcels.estimate_utm_crs().to_epsg()\n",
    "parcels = parcels.to_crs(crs)"
   ]
  },
  {
   "cell_type": "code",
   "execution_count": 463,
   "metadata": {},
   "outputs": [],
   "source": [
    "def build_tessellation(df, unique_id, limit):\n",
    "    limit = momepy.buffered_limit(df, buffer=limit)\n",
    "    tessellation = momepy.Tessellation(df, unique_id=unique_id, limit=limit)\n",
    "    tessellation_gdf = tessellation.tessellation\n",
    "    #tessellation_gdf = tessellation_gdf.reset_index(drop=True)\n",
    "    #tessellation_gdf['ID'] = tessellation_gdf.index\n",
    "\n",
    "    return tessellation_gdf"
   ]
  },
  {
   "cell_type": "code",
   "execution_count": 464,
   "metadata": {},
   "outputs": [
    {
     "name": "stdout",
     "output_type": "stream",
     "text": [
      "Inward offset...\n",
      "Generating input point array...\n",
      "Generating Voronoi diagram...\n",
      "Generating GeoDataFrame...\n",
      "Dissolving Voronoi polygons...\n"
     ]
    }
   ],
   "source": [
    "og_tess = build_tessellation(parcels, 'ID', 1)\n",
    "og_tess.to_file('og_tess.shp')"
   ]
  },
  {
   "cell_type": "code",
   "execution_count": 465,
   "metadata": {},
   "outputs": [],
   "source": [
    "def build_spatial_topology(df, contiguity, unique_id):\n",
    "    if contiguity == 'rook':\n",
    "        w = Rook.from_dataframe(df)\n",
    "    elif contiguity == 'queen':\n",
    "        w = Queen.from_dataframe(df)\n",
    "    else:\n",
    "        raise ValueError('Unknown contiguity type')\n",
    "\n",
    "    return w\n",
    "\n",
    "def get_components(df, w):\n",
    "    # get component labels\n",
    "    components = w.component_labels\n",
    "    combined_polygons = df.dissolve(by=components)\n",
    "    return combined_polygons"
   ]
  },
  {
   "cell_type": "code",
   "execution_count": 466,
   "metadata": {},
   "outputs": [
    {
     "name": "stderr",
     "output_type": "stream",
     "text": [
      "d:\\mini-forge\\envs\\growth_model\\Lib\\site-packages\\libpysal\\weights\\weights.py:172: UserWarning: The weights matrix is not fully connected: \n",
      " There are 9 disconnected components.\n",
      " There is 1 island with id: 0.\n",
      "  warnings.warn(message)\n"
     ]
    }
   ],
   "source": [
    "w_rook = build_spatial_topology(og_tess, 'rook', 'ID')"
   ]
  },
  {
   "cell_type": "code",
   "execution_count": 467,
   "metadata": {},
   "outputs": [],
   "source": [
    "combine = get_components(og_tess, w_rook)\n"
   ]
  },
  {
   "cell_type": "code",
   "execution_count": 468,
   "metadata": {},
   "outputs": [],
   "source": [
    "def get_distance(df, dist_band):\n",
    "    for poly in range(len(df)):\n",
    "        ID = df.iloc[poly].ID\n",
    "        # Calcualtes distance for each point from each df. If Point resides along edge of df( within 1-meter), distance is is given NUll then dropped\n",
    "        df[f'd_to_{ID}'] = (df.apply(lambda x: \n",
    "                                                df.iloc[poly].geometry.distance(x['geometry']) \n",
    "                                                if df.iloc[poly].geometry.distance(x['geometry']) < dist_band \n",
    "                                                else 0, axis=1)\n",
    "                                                )\n",
    "    \n",
    "    return df"
   ]
  },
  {
   "cell_type": "code",
   "execution_count": 469,
   "metadata": {},
   "outputs": [],
   "source": [
    "combine = get_distance(combine, dist_band=15.0)"
   ]
  },
  {
   "cell_type": "code",
   "execution_count": 470,
   "metadata": {},
   "outputs": [
    {
     "data": {
      "text/html": [
       "<div>\n",
       "<style scoped>\n",
       "    .dataframe tbody tr th:only-of-type {\n",
       "        vertical-align: middle;\n",
       "    }\n",
       "\n",
       "    .dataframe tbody tr th {\n",
       "        vertical-align: top;\n",
       "    }\n",
       "\n",
       "    .dataframe thead th {\n",
       "        text-align: right;\n",
       "    }\n",
       "</style>\n",
       "<table border=\"1\" class=\"dataframe\">\n",
       "  <thead>\n",
       "    <tr style=\"text-align: right;\">\n",
       "      <th></th>\n",
       "      <th>geometry</th>\n",
       "      <th>ID</th>\n",
       "      <th>d_to_36</th>\n",
       "      <th>d_to_18</th>\n",
       "      <th>d_to_30</th>\n",
       "      <th>d_to_45</th>\n",
       "      <th>d_to_34</th>\n",
       "      <th>d_to_37</th>\n",
       "      <th>d_to_22</th>\n",
       "      <th>d_to_48</th>\n",
       "      <th>d_to_41</th>\n",
       "    </tr>\n",
       "  </thead>\n",
       "  <tbody>\n",
       "    <tr>\n",
       "      <th>0</th>\n",
       "      <td>POLYGON ((481635.059 4399502.366, 481635.020 4...</td>\n",
       "      <td>36</td>\n",
       "      <td>0.0</td>\n",
       "      <td>0.000000</td>\n",
       "      <td>0.000000</td>\n",
       "      <td>0.0</td>\n",
       "      <td>0.0</td>\n",
       "      <td>0.0</td>\n",
       "      <td>0.000000</td>\n",
       "      <td>0.0</td>\n",
       "      <td>0.000000</td>\n",
       "    </tr>\n",
       "    <tr>\n",
       "      <th>1</th>\n",
       "      <td>POLYGON ((481669.145 4399644.884, 481634.474 4...</td>\n",
       "      <td>18</td>\n",
       "      <td>0.0</td>\n",
       "      <td>0.000000</td>\n",
       "      <td>12.955754</td>\n",
       "      <td>0.0</td>\n",
       "      <td>0.0</td>\n",
       "      <td>0.0</td>\n",
       "      <td>0.000000</td>\n",
       "      <td>0.0</td>\n",
       "      <td>0.000000</td>\n",
       "    </tr>\n",
       "    <tr>\n",
       "      <th>2</th>\n",
       "      <td>POLYGON ((481555.293 4399729.957, 481550.856 4...</td>\n",
       "      <td>30</td>\n",
       "      <td>0.0</td>\n",
       "      <td>12.955754</td>\n",
       "      <td>0.000000</td>\n",
       "      <td>0.0</td>\n",
       "      <td>0.0</td>\n",
       "      <td>0.0</td>\n",
       "      <td>0.000000</td>\n",
       "      <td>0.0</td>\n",
       "      <td>0.000000</td>\n",
       "    </tr>\n",
       "    <tr>\n",
       "      <th>3</th>\n",
       "      <td>POLYGON ((481479.409 4399529.315, 481479.412 4...</td>\n",
       "      <td>45</td>\n",
       "      <td>0.0</td>\n",
       "      <td>0.000000</td>\n",
       "      <td>0.000000</td>\n",
       "      <td>0.0</td>\n",
       "      <td>0.0</td>\n",
       "      <td>0.0</td>\n",
       "      <td>0.000000</td>\n",
       "      <td>0.0</td>\n",
       "      <td>0.000000</td>\n",
       "    </tr>\n",
       "    <tr>\n",
       "      <th>4</th>\n",
       "      <td>POLYGON ((481535.150 4399727.063, 481536.174 4...</td>\n",
       "      <td>34</td>\n",
       "      <td>0.0</td>\n",
       "      <td>0.000000</td>\n",
       "      <td>0.000000</td>\n",
       "      <td>0.0</td>\n",
       "      <td>0.0</td>\n",
       "      <td>0.0</td>\n",
       "      <td>0.000000</td>\n",
       "      <td>0.0</td>\n",
       "      <td>0.000000</td>\n",
       "    </tr>\n",
       "    <tr>\n",
       "      <th>5</th>\n",
       "      <td>POLYGON ((481744.381 4399505.419, 481744.381 4...</td>\n",
       "      <td>37</td>\n",
       "      <td>0.0</td>\n",
       "      <td>0.000000</td>\n",
       "      <td>0.000000</td>\n",
       "      <td>0.0</td>\n",
       "      <td>0.0</td>\n",
       "      <td>0.0</td>\n",
       "      <td>0.000000</td>\n",
       "      <td>0.0</td>\n",
       "      <td>0.000000</td>\n",
       "    </tr>\n",
       "    <tr>\n",
       "      <th>6</th>\n",
       "      <td>POLYGON ((481423.468 4399990.705, 481427.908 4...</td>\n",
       "      <td>22</td>\n",
       "      <td>0.0</td>\n",
       "      <td>0.000000</td>\n",
       "      <td>0.000000</td>\n",
       "      <td>0.0</td>\n",
       "      <td>0.0</td>\n",
       "      <td>0.0</td>\n",
       "      <td>0.000000</td>\n",
       "      <td>0.0</td>\n",
       "      <td>0.984371</td>\n",
       "    </tr>\n",
       "    <tr>\n",
       "      <th>7</th>\n",
       "      <td>POLYGON ((481837.701 4399993.591, 481842.055 4...</td>\n",
       "      <td>48</td>\n",
       "      <td>0.0</td>\n",
       "      <td>0.000000</td>\n",
       "      <td>0.000000</td>\n",
       "      <td>0.0</td>\n",
       "      <td>0.0</td>\n",
       "      <td>0.0</td>\n",
       "      <td>0.000000</td>\n",
       "      <td>0.0</td>\n",
       "      <td>0.000000</td>\n",
       "    </tr>\n",
       "    <tr>\n",
       "      <th>8</th>\n",
       "      <td>POLYGON ((481454.322 4400031.363, 481458.760 4...</td>\n",
       "      <td>41</td>\n",
       "      <td>0.0</td>\n",
       "      <td>0.000000</td>\n",
       "      <td>0.000000</td>\n",
       "      <td>0.0</td>\n",
       "      <td>0.0</td>\n",
       "      <td>0.0</td>\n",
       "      <td>0.984371</td>\n",
       "      <td>0.0</td>\n",
       "      <td>0.000000</td>\n",
       "    </tr>\n",
       "  </tbody>\n",
       "</table>\n",
       "</div>"
      ],
      "text/plain": [
       "                                            geometry  ID  d_to_36    d_to_18  \\\n",
       "0  POLYGON ((481635.059 4399502.366, 481635.020 4...  36      0.0   0.000000   \n",
       "1  POLYGON ((481669.145 4399644.884, 481634.474 4...  18      0.0   0.000000   \n",
       "2  POLYGON ((481555.293 4399729.957, 481550.856 4...  30      0.0  12.955754   \n",
       "3  POLYGON ((481479.409 4399529.315, 481479.412 4...  45      0.0   0.000000   \n",
       "4  POLYGON ((481535.150 4399727.063, 481536.174 4...  34      0.0   0.000000   \n",
       "5  POLYGON ((481744.381 4399505.419, 481744.381 4...  37      0.0   0.000000   \n",
       "6  POLYGON ((481423.468 4399990.705, 481427.908 4...  22      0.0   0.000000   \n",
       "7  POLYGON ((481837.701 4399993.591, 481842.055 4...  48      0.0   0.000000   \n",
       "8  POLYGON ((481454.322 4400031.363, 481458.760 4...  41      0.0   0.000000   \n",
       "\n",
       "     d_to_30  d_to_45  d_to_34  d_to_37   d_to_22  d_to_48   d_to_41  \n",
       "0   0.000000      0.0      0.0      0.0  0.000000      0.0  0.000000  \n",
       "1  12.955754      0.0      0.0      0.0  0.000000      0.0  0.000000  \n",
       "2   0.000000      0.0      0.0      0.0  0.000000      0.0  0.000000  \n",
       "3   0.000000      0.0      0.0      0.0  0.000000      0.0  0.000000  \n",
       "4   0.000000      0.0      0.0      0.0  0.000000      0.0  0.000000  \n",
       "5   0.000000      0.0      0.0      0.0  0.000000      0.0  0.000000  \n",
       "6   0.000000      0.0      0.0      0.0  0.000000      0.0  0.984371  \n",
       "7   0.000000      0.0      0.0      0.0  0.000000      0.0  0.000000  \n",
       "8   0.000000      0.0      0.0      0.0  0.984371      0.0  0.000000  "
      ]
     },
     "execution_count": 470,
     "metadata": {},
     "output_type": "execute_result"
    }
   ],
   "source": [
    "combine"
   ]
  },
  {
   "cell_type": "code",
   "execution_count": 471,
   "metadata": {},
   "outputs": [],
   "source": [
    "def identify_nearby_enclosures(df):\n",
    "    cols = df.filter(regex='d_to_')\n",
    "    df['nearby_enclosures'] = df[cols.columns.to_list()].sum(axis=1)\n",
    "    return df"
   ]
  },
  {
   "cell_type": "code",
   "execution_count": 472,
   "metadata": {},
   "outputs": [
    {
     "data": {
      "text/html": [
       "<div>\n",
       "<style scoped>\n",
       "    .dataframe tbody tr th:only-of-type {\n",
       "        vertical-align: middle;\n",
       "    }\n",
       "\n",
       "    .dataframe tbody tr th {\n",
       "        vertical-align: top;\n",
       "    }\n",
       "\n",
       "    .dataframe thead th {\n",
       "        text-align: right;\n",
       "    }\n",
       "</style>\n",
       "<table border=\"1\" class=\"dataframe\">\n",
       "  <thead>\n",
       "    <tr style=\"text-align: right;\">\n",
       "      <th></th>\n",
       "      <th>geometry</th>\n",
       "      <th>ID</th>\n",
       "      <th>d_to_36</th>\n",
       "      <th>d_to_18</th>\n",
       "      <th>d_to_30</th>\n",
       "      <th>d_to_45</th>\n",
       "      <th>d_to_34</th>\n",
       "      <th>d_to_37</th>\n",
       "      <th>d_to_22</th>\n",
       "      <th>d_to_48</th>\n",
       "      <th>d_to_41</th>\n",
       "      <th>nearby_enclosures</th>\n",
       "    </tr>\n",
       "  </thead>\n",
       "  <tbody>\n",
       "    <tr>\n",
       "      <th>0</th>\n",
       "      <td>POLYGON ((481635.059 4399502.366, 481635.020 4...</td>\n",
       "      <td>36</td>\n",
       "      <td>0.0</td>\n",
       "      <td>0.000000</td>\n",
       "      <td>0.000000</td>\n",
       "      <td>0.0</td>\n",
       "      <td>0.0</td>\n",
       "      <td>0.0</td>\n",
       "      <td>0.000000</td>\n",
       "      <td>0.0</td>\n",
       "      <td>0.000000</td>\n",
       "      <td>0.000000</td>\n",
       "    </tr>\n",
       "    <tr>\n",
       "      <th>1</th>\n",
       "      <td>POLYGON ((481669.145 4399644.884, 481634.474 4...</td>\n",
       "      <td>18</td>\n",
       "      <td>0.0</td>\n",
       "      <td>0.000000</td>\n",
       "      <td>12.955754</td>\n",
       "      <td>0.0</td>\n",
       "      <td>0.0</td>\n",
       "      <td>0.0</td>\n",
       "      <td>0.000000</td>\n",
       "      <td>0.0</td>\n",
       "      <td>0.000000</td>\n",
       "      <td>12.955754</td>\n",
       "    </tr>\n",
       "    <tr>\n",
       "      <th>2</th>\n",
       "      <td>POLYGON ((481555.293 4399729.957, 481550.856 4...</td>\n",
       "      <td>30</td>\n",
       "      <td>0.0</td>\n",
       "      <td>12.955754</td>\n",
       "      <td>0.000000</td>\n",
       "      <td>0.0</td>\n",
       "      <td>0.0</td>\n",
       "      <td>0.0</td>\n",
       "      <td>0.000000</td>\n",
       "      <td>0.0</td>\n",
       "      <td>0.000000</td>\n",
       "      <td>12.955754</td>\n",
       "    </tr>\n",
       "    <tr>\n",
       "      <th>3</th>\n",
       "      <td>POLYGON ((481479.409 4399529.315, 481479.412 4...</td>\n",
       "      <td>45</td>\n",
       "      <td>0.0</td>\n",
       "      <td>0.000000</td>\n",
       "      <td>0.000000</td>\n",
       "      <td>0.0</td>\n",
       "      <td>0.0</td>\n",
       "      <td>0.0</td>\n",
       "      <td>0.000000</td>\n",
       "      <td>0.0</td>\n",
       "      <td>0.000000</td>\n",
       "      <td>0.000000</td>\n",
       "    </tr>\n",
       "    <tr>\n",
       "      <th>4</th>\n",
       "      <td>POLYGON ((481535.150 4399727.063, 481536.174 4...</td>\n",
       "      <td>34</td>\n",
       "      <td>0.0</td>\n",
       "      <td>0.000000</td>\n",
       "      <td>0.000000</td>\n",
       "      <td>0.0</td>\n",
       "      <td>0.0</td>\n",
       "      <td>0.0</td>\n",
       "      <td>0.000000</td>\n",
       "      <td>0.0</td>\n",
       "      <td>0.000000</td>\n",
       "      <td>0.000000</td>\n",
       "    </tr>\n",
       "    <tr>\n",
       "      <th>5</th>\n",
       "      <td>POLYGON ((481744.381 4399505.419, 481744.381 4...</td>\n",
       "      <td>37</td>\n",
       "      <td>0.0</td>\n",
       "      <td>0.000000</td>\n",
       "      <td>0.000000</td>\n",
       "      <td>0.0</td>\n",
       "      <td>0.0</td>\n",
       "      <td>0.0</td>\n",
       "      <td>0.000000</td>\n",
       "      <td>0.0</td>\n",
       "      <td>0.000000</td>\n",
       "      <td>0.000000</td>\n",
       "    </tr>\n",
       "    <tr>\n",
       "      <th>6</th>\n",
       "      <td>POLYGON ((481423.468 4399990.705, 481427.908 4...</td>\n",
       "      <td>22</td>\n",
       "      <td>0.0</td>\n",
       "      <td>0.000000</td>\n",
       "      <td>0.000000</td>\n",
       "      <td>0.0</td>\n",
       "      <td>0.0</td>\n",
       "      <td>0.0</td>\n",
       "      <td>0.000000</td>\n",
       "      <td>0.0</td>\n",
       "      <td>0.984371</td>\n",
       "      <td>0.984371</td>\n",
       "    </tr>\n",
       "    <tr>\n",
       "      <th>7</th>\n",
       "      <td>POLYGON ((481837.701 4399993.591, 481842.055 4...</td>\n",
       "      <td>48</td>\n",
       "      <td>0.0</td>\n",
       "      <td>0.000000</td>\n",
       "      <td>0.000000</td>\n",
       "      <td>0.0</td>\n",
       "      <td>0.0</td>\n",
       "      <td>0.0</td>\n",
       "      <td>0.000000</td>\n",
       "      <td>0.0</td>\n",
       "      <td>0.000000</td>\n",
       "      <td>0.000000</td>\n",
       "    </tr>\n",
       "    <tr>\n",
       "      <th>8</th>\n",
       "      <td>POLYGON ((481454.322 4400031.363, 481458.760 4...</td>\n",
       "      <td>41</td>\n",
       "      <td>0.0</td>\n",
       "      <td>0.000000</td>\n",
       "      <td>0.000000</td>\n",
       "      <td>0.0</td>\n",
       "      <td>0.0</td>\n",
       "      <td>0.0</td>\n",
       "      <td>0.984371</td>\n",
       "      <td>0.0</td>\n",
       "      <td>0.000000</td>\n",
       "      <td>0.984371</td>\n",
       "    </tr>\n",
       "  </tbody>\n",
       "</table>\n",
       "</div>"
      ],
      "text/plain": [
       "                                            geometry  ID  d_to_36    d_to_18  \\\n",
       "0  POLYGON ((481635.059 4399502.366, 481635.020 4...  36      0.0   0.000000   \n",
       "1  POLYGON ((481669.145 4399644.884, 481634.474 4...  18      0.0   0.000000   \n",
       "2  POLYGON ((481555.293 4399729.957, 481550.856 4...  30      0.0  12.955754   \n",
       "3  POLYGON ((481479.409 4399529.315, 481479.412 4...  45      0.0   0.000000   \n",
       "4  POLYGON ((481535.150 4399727.063, 481536.174 4...  34      0.0   0.000000   \n",
       "5  POLYGON ((481744.381 4399505.419, 481744.381 4...  37      0.0   0.000000   \n",
       "6  POLYGON ((481423.468 4399990.705, 481427.908 4...  22      0.0   0.000000   \n",
       "7  POLYGON ((481837.701 4399993.591, 481842.055 4...  48      0.0   0.000000   \n",
       "8  POLYGON ((481454.322 4400031.363, 481458.760 4...  41      0.0   0.000000   \n",
       "\n",
       "     d_to_30  d_to_45  d_to_34  d_to_37   d_to_22  d_to_48   d_to_41  \\\n",
       "0   0.000000      0.0      0.0      0.0  0.000000      0.0  0.000000   \n",
       "1  12.955754      0.0      0.0      0.0  0.000000      0.0  0.000000   \n",
       "2   0.000000      0.0      0.0      0.0  0.000000      0.0  0.000000   \n",
       "3   0.000000      0.0      0.0      0.0  0.000000      0.0  0.000000   \n",
       "4   0.000000      0.0      0.0      0.0  0.000000      0.0  0.000000   \n",
       "5   0.000000      0.0      0.0      0.0  0.000000      0.0  0.000000   \n",
       "6   0.000000      0.0      0.0      0.0  0.000000      0.0  0.984371   \n",
       "7   0.000000      0.0      0.0      0.0  0.000000      0.0  0.000000   \n",
       "8   0.000000      0.0      0.0      0.0  0.984371      0.0  0.000000   \n",
       "\n",
       "   nearby_enclosures  \n",
       "0           0.000000  \n",
       "1          12.955754  \n",
       "2          12.955754  \n",
       "3           0.000000  \n",
       "4           0.000000  \n",
       "5           0.000000  \n",
       "6           0.984371  \n",
       "7           0.000000  \n",
       "8           0.984371  "
      ]
     },
     "execution_count": 472,
     "metadata": {},
     "output_type": "execute_result"
    }
   ],
   "source": [
    "combine = identify_nearby_enclosures(combine)\n",
    "combine"
   ]
  },
  {
   "cell_type": "code",
   "execution_count": 473,
   "metadata": {},
   "outputs": [],
   "source": [
    "def get_adj_id(x):\n",
    "    ids = []\n",
    "    x = dict(x.filter(regex='d_to_'))\n",
    "    for col, row in x.items():\n",
    "        if row != 0:\n",
    "            ids.append(col.split('_')[-1]) \n",
    "    \n",
    "    return ids\n"
   ]
  },
  {
   "cell_type": "code",
   "execution_count": 474,
   "metadata": {},
   "outputs": [],
   "source": [
    "combine['adjacent_ID'] = combine.apply(lambda x: get_adj_id(x), axis=1)"
   ]
  },
  {
   "cell_type": "code",
   "execution_count": 475,
   "metadata": {},
   "outputs": [],
   "source": [
    "combine[['ID', 'geometry']].to_file('combine.shp')"
   ]
  },
  {
   "cell_type": "code",
   "execution_count": 476,
   "metadata": {},
   "outputs": [
    {
     "data": {
      "text/html": [
       "<div>\n",
       "<style scoped>\n",
       "    .dataframe tbody tr th:only-of-type {\n",
       "        vertical-align: middle;\n",
       "    }\n",
       "\n",
       "    .dataframe tbody tr th {\n",
       "        vertical-align: top;\n",
       "    }\n",
       "\n",
       "    .dataframe thead th {\n",
       "        text-align: right;\n",
       "    }\n",
       "</style>\n",
       "<table border=\"1\" class=\"dataframe\">\n",
       "  <thead>\n",
       "    <tr style=\"text-align: right;\">\n",
       "      <th></th>\n",
       "      <th>geometry</th>\n",
       "      <th>ID</th>\n",
       "      <th>d_to_36</th>\n",
       "      <th>d_to_18</th>\n",
       "      <th>d_to_30</th>\n",
       "      <th>d_to_45</th>\n",
       "      <th>d_to_34</th>\n",
       "      <th>d_to_37</th>\n",
       "      <th>d_to_22</th>\n",
       "      <th>d_to_48</th>\n",
       "      <th>d_to_41</th>\n",
       "      <th>nearby_enclosures</th>\n",
       "      <th>adjacent_ID</th>\n",
       "    </tr>\n",
       "  </thead>\n",
       "  <tbody>\n",
       "    <tr>\n",
       "      <th>1</th>\n",
       "      <td>POLYGON ((481669.145 4399644.884, 481634.474 4...</td>\n",
       "      <td>18</td>\n",
       "      <td>0.0</td>\n",
       "      <td>0.000000</td>\n",
       "      <td>12.955754</td>\n",
       "      <td>0.0</td>\n",
       "      <td>0.0</td>\n",
       "      <td>0.0</td>\n",
       "      <td>0.000000</td>\n",
       "      <td>0.0</td>\n",
       "      <td>0.000000</td>\n",
       "      <td>12.955754</td>\n",
       "      <td>[30]</td>\n",
       "    </tr>\n",
       "    <tr>\n",
       "      <th>2</th>\n",
       "      <td>POLYGON ((481555.293 4399729.957, 481550.856 4...</td>\n",
       "      <td>30</td>\n",
       "      <td>0.0</td>\n",
       "      <td>12.955754</td>\n",
       "      <td>0.000000</td>\n",
       "      <td>0.0</td>\n",
       "      <td>0.0</td>\n",
       "      <td>0.0</td>\n",
       "      <td>0.000000</td>\n",
       "      <td>0.0</td>\n",
       "      <td>0.000000</td>\n",
       "      <td>12.955754</td>\n",
       "      <td>[18]</td>\n",
       "    </tr>\n",
       "    <tr>\n",
       "      <th>6</th>\n",
       "      <td>POLYGON ((481423.468 4399990.705, 481427.908 4...</td>\n",
       "      <td>22</td>\n",
       "      <td>0.0</td>\n",
       "      <td>0.000000</td>\n",
       "      <td>0.000000</td>\n",
       "      <td>0.0</td>\n",
       "      <td>0.0</td>\n",
       "      <td>0.0</td>\n",
       "      <td>0.000000</td>\n",
       "      <td>0.0</td>\n",
       "      <td>0.984371</td>\n",
       "      <td>0.984371</td>\n",
       "      <td>[41]</td>\n",
       "    </tr>\n",
       "    <tr>\n",
       "      <th>8</th>\n",
       "      <td>POLYGON ((481454.322 4400031.363, 481458.760 4...</td>\n",
       "      <td>41</td>\n",
       "      <td>0.0</td>\n",
       "      <td>0.000000</td>\n",
       "      <td>0.000000</td>\n",
       "      <td>0.0</td>\n",
       "      <td>0.0</td>\n",
       "      <td>0.0</td>\n",
       "      <td>0.984371</td>\n",
       "      <td>0.0</td>\n",
       "      <td>0.000000</td>\n",
       "      <td>0.984371</td>\n",
       "      <td>[22]</td>\n",
       "    </tr>\n",
       "  </tbody>\n",
       "</table>\n",
       "</div>"
      ],
      "text/plain": [
       "                                            geometry  ID  d_to_36    d_to_18  \\\n",
       "1  POLYGON ((481669.145 4399644.884, 481634.474 4...  18      0.0   0.000000   \n",
       "2  POLYGON ((481555.293 4399729.957, 481550.856 4...  30      0.0  12.955754   \n",
       "6  POLYGON ((481423.468 4399990.705, 481427.908 4...  22      0.0   0.000000   \n",
       "8  POLYGON ((481454.322 4400031.363, 481458.760 4...  41      0.0   0.000000   \n",
       "\n",
       "     d_to_30  d_to_45  d_to_34  d_to_37   d_to_22  d_to_48   d_to_41  \\\n",
       "1  12.955754      0.0      0.0      0.0  0.000000      0.0  0.000000   \n",
       "2   0.000000      0.0      0.0      0.0  0.000000      0.0  0.000000   \n",
       "6   0.000000      0.0      0.0      0.0  0.000000      0.0  0.984371   \n",
       "8   0.000000      0.0      0.0      0.0  0.984371      0.0  0.000000   \n",
       "\n",
       "   nearby_enclosures adjacent_ID  \n",
       "1          12.955754        [30]  \n",
       "2          12.955754        [18]  \n",
       "6           0.984371        [41]  \n",
       "8           0.984371        [22]  "
      ]
     },
     "execution_count": 476,
     "metadata": {},
     "output_type": "execute_result"
    }
   ],
   "source": [
    "merge = combine[combine['nearby_enclosures'] != 0]\n",
    "merge"
   ]
  },
  {
   "cell_type": "code",
   "execution_count": 477,
   "metadata": {},
   "outputs": [
    {
     "name": "stderr",
     "output_type": "stream",
     "text": [
      "d:\\mini-forge\\envs\\growth_model\\Lib\\site-packages\\geopandas\\geodataframe.py:1538: SettingWithCopyWarning: \n",
      "A value is trying to be set on a copy of a slice from a DataFrame.\n",
      "Try using .loc[row_indexer,col_indexer] = value instead\n",
      "\n",
      "See the caveats in the documentation: https://pandas.pydata.org/pandas-docs/stable/user_guide/indexing.html#returning-a-view-versus-a-copy\n",
      "  super().__setitem__(key, value)\n"
     ]
    }
   ],
   "source": [
    "merge['limit'] = merge.apply(lambda x: x[f'd_to_{x.adjacent_ID[0]}'], axis=1)\n",
    "merge = merge[['ID', 'limit', 'adjacent_ID', 'geometry']]"
   ]
  },
  {
   "cell_type": "code",
   "execution_count": 478,
   "metadata": {},
   "outputs": [
    {
     "data": {
      "text/plain": [
       "[18, 30, 22, 41]"
      ]
     },
     "execution_count": 478,
     "metadata": {},
     "output_type": "execute_result"
    }
   ],
   "source": [
    "remove_ids = merge.ID.to_list()\n",
    "remove_ids"
   ]
  },
  {
   "cell_type": "code",
   "execution_count": 479,
   "metadata": {},
   "outputs": [
    {
     "name": "stdout",
     "output_type": "stream",
     "text": [
      "Inward offset...\n",
      "Generating input point array...\n",
      "Generating Voronoi diagram...\n",
      "Generating GeoDataFrame...\n",
      "Dissolving Voronoi polygons...\n"
     ]
    },
    {
     "name": "stderr",
     "output_type": "stream",
     "text": [
      "d:\\mini-forge\\envs\\growth_model\\Lib\\site-packages\\IPython\\core\\interactiveshell.py:3508: FutureWarning: The `op` parameter is deprecated and will be removed in a future release. Please use the `predicate` parameter instead.\n",
      "  exec(code_obj, self.user_global_ns, self.user_ns)\n"
     ]
    },
    {
     "name": "stdout",
     "output_type": "stream",
     "text": [
      "Inward offset...\n",
      "Generating input point array...\n",
      "Generating Voronoi diagram...\n",
      "Generating GeoDataFrame...\n",
      "Dissolving Voronoi polygons...\n",
      "Inward offset...\n",
      "Generating input point array...\n",
      "Generating Voronoi diagram...\n",
      "Generating GeoDataFrame...\n",
      "Dissolving Voronoi polygons...\n"
     ]
    },
    {
     "name": "stderr",
     "output_type": "stream",
     "text": [
      "d:\\mini-forge\\envs\\growth_model\\Lib\\site-packages\\IPython\\core\\interactiveshell.py:3508: FutureWarning: The `op` parameter is deprecated and will be removed in a future release. Please use the `predicate` parameter instead.\n",
      "  exec(code_obj, self.user_global_ns, self.user_ns)\n"
     ]
    },
    {
     "name": "stdout",
     "output_type": "stream",
     "text": [
      "Inward offset...\n",
      "Generating input point array...\n",
      "Generating Voronoi diagram...\n",
      "Generating GeoDataFrame...\n",
      "Dissolving Voronoi polygons...\n",
      "Inward offset...\n",
      "Generating input point array...\n",
      "Generating Voronoi diagram...\n",
      "Generating GeoDataFrame...\n",
      "Dissolving Voronoi polygons...\n"
     ]
    },
    {
     "name": "stderr",
     "output_type": "stream",
     "text": [
      "d:\\mini-forge\\envs\\growth_model\\Lib\\site-packages\\IPython\\core\\interactiveshell.py:3508: FutureWarning: The `op` parameter is deprecated and will be removed in a future release. Please use the `predicate` parameter instead.\n",
      "  exec(code_obj, self.user_global_ns, self.user_ns)\n"
     ]
    },
    {
     "name": "stdout",
     "output_type": "stream",
     "text": [
      "Inward offset...\n",
      "Generating input point array...\n",
      "Generating Voronoi diagram...\n",
      "Generating GeoDataFrame...\n",
      "Dissolving Voronoi polygons...\n",
      "Inward offset...\n",
      "Generating input point array...\n",
      "Generating Voronoi diagram...\n",
      "Generating GeoDataFrame...\n",
      "Dissolving Voronoi polygons...\n"
     ]
    },
    {
     "name": "stderr",
     "output_type": "stream",
     "text": [
      "d:\\mini-forge\\envs\\growth_model\\Lib\\site-packages\\IPython\\core\\interactiveshell.py:3508: FutureWarning: The `op` parameter is deprecated and will be removed in a future release. Please use the `predicate` parameter instead.\n",
      "  exec(code_obj, self.user_global_ns, self.user_ns)\n"
     ]
    },
    {
     "name": "stdout",
     "output_type": "stream",
     "text": [
      "Inward offset...\n",
      "Generating input point array...\n",
      "Generating Voronoi diagram...\n",
      "Generating GeoDataFrame...\n",
      "Dissolving Voronoi polygons...\n"
     ]
    }
   ],
   "source": [
    "remove_ids = []\n",
    "tessellations = gpd.GeoDataFrame()\n",
    "for index, row in merge.iterrows():\n",
    "    ID = row.ID\n",
    "    adjacent_ID = row.adjacent_ID[0]\n",
    "    limit = row.limit\n",
    "    geometry = row.geometry\n",
    "    adj_geometry = merge[merge['ID'] == int(adjacent_ID)].geometry.values[0]\n",
    "    df = gpd.GeoDataFrame(geometry=[geometry, adj_geometry], crs=merge.crs.to_epsg())\n",
    "    df['ID'] = df.index\n",
    "\n",
    "    tess = build_tessellation(df, 'ID', limit)\n",
    "    w = build_spatial_topology(tess, 'rook', 'ID')\n",
    "    combine = get_components(tess, w)\n",
    "\n",
    "    sel_parcels = parcels.sjoin(combine, how='inner', op='intersects')\n",
    "    sel_parcels = sel_parcels[['ID_left', 'geometry']].rename(columns={'ID_left': 'ID'})\n",
    "    remove_ids.append(sel_parcels.ID.to_list())\n",
    "    sel_tess = build_tessellation(sel_parcels, 'ID', (limit + 5))\n",
    "    sel_w = build_spatial_topology(sel_tess, 'rook', 'ID')\n",
    "    \n",
    "    tessellations = pd.concat([tessellations, sel_tess], ignore_index=True)\n",
    "\n",
    "\n",
    "    \n",
    "    \n",
    "    \n",
    "    \n",
    "\n",
    "\n",
    "\n",
    "    "
   ]
  },
  {
   "cell_type": "code",
   "execution_count": 480,
   "metadata": {},
   "outputs": [],
   "source": [
    "tessellations_clean = tessellations.drop_duplicates()\n"
   ]
  },
  {
   "cell_type": "code",
   "execution_count": 481,
   "metadata": {},
   "outputs": [],
   "source": [
    "tessellations_clean.to_file('tessellations_clean.shp')"
   ]
  },
  {
   "cell_type": "code",
   "execution_count": 482,
   "metadata": {},
   "outputs": [],
   "source": [
    "remove_ids = [item for sublist in remove_ids for item in sublist]\n",
    "remove_ids = list(set(remove_ids))"
   ]
  },
  {
   "cell_type": "code",
   "execution_count": 484,
   "metadata": {},
   "outputs": [],
   "source": [
    "og_tess = og_tess[~og_tess['ID'].isin(remove_ids)]\n",
    "all_tess = pd.concat([og_tess, tessellations_clean], ignore_index=True)\n",
    "all_tess.to_file('all_tess.shp')"
   ]
  },
  {
   "cell_type": "code",
   "execution_count": 486,
   "metadata": {},
   "outputs": [
    {
     "name": "stderr",
     "output_type": "stream",
     "text": [
      "d:\\mini-forge\\envs\\growth_model\\Lib\\site-packages\\libpysal\\weights\\weights.py:172: UserWarning: The weights matrix is not fully connected: \n",
      " There are 7 disconnected components.\n",
      " There is 1 island with id: 0.\n",
      "  warnings.warn(message)\n"
     ]
    }
   ],
   "source": [
    "w_rook_final = build_spatial_topology(all_tess, 'rook', 'ID')"
   ]
  },
  {
   "cell_type": "code",
   "execution_count": 488,
   "metadata": {},
   "outputs": [],
   "source": [
    "all_ids = w_rook_final.id_order\n",
    "islands = w_rook_final.islands\n",
    "# remove islands from the list of all ids\n",
    "all_ids = [x for x in all_ids if x not in islands]"
   ]
  },
  {
   "cell_type": "code",
   "execution_count": 490,
   "metadata": {},
   "outputs": [
    {
     "name": "stdout",
     "output_type": "stream",
     "text": [
      "ID: 1: [2]\n",
      "ID: 2: [1, 3]\n",
      "ID: 3: [2]\n",
      "ID: 4: [5]\n",
      "ID: 5: [4, 6]\n",
      "ID: 6: [5, 7]\n",
      "ID: 7: [8, 6]\n",
      "ID: 8: [7]\n",
      "ID: 9: [10]\n",
      "ID: 10: [9, 11]\n",
      "ID: 11: [10, 12]\n",
      "ID: 12: [11]\n",
      "ID: 13: [14]\n",
      "ID: 14: [13, 15]\n",
      "ID: 15: [16, 14]\n",
      "ID: 16: [17, 15]\n",
      "ID: 17: [16, 18]\n",
      "ID: 18: [17]\n",
      "ID: 19: [20, 30]\n",
      "ID: 20: [19, 21, 30]\n",
      "ID: 21: [20, 30, 22, 39]\n",
      "ID: 22: [40, 39, 21, 23]\n",
      "ID: 23: [24, 41, 40, 22]\n",
      "ID: 24: [25, 43, 41, 23]\n",
      "ID: 25: [24, 26, 43, 45]\n",
      "ID: 26: [25, 27, 45, 46]\n",
      "ID: 27: [26, 28, 46]\n",
      "ID: 28: [56, 50, 27, 46]\n",
      "ID: 29: [30, 31]\n",
      "ID: 30: [19, 20, 21, 39, 29, 31]\n",
      "ID: 31: [32, 29, 30, 39]\n",
      "ID: 32: [33, 34, 31, 39]\n",
      "ID: 33: [32, 34, 39, 40, 42]\n",
      "ID: 34: [32, 33, 42, 35]\n",
      "ID: 35: [34, 36, 37, 42, 44]\n",
      "ID: 36: [48, 35, 44, 37]\n",
      "ID: 37: [48, 51, 35, 36, 53, 38]\n",
      "ID: 38: [37, 53, 63]\n",
      "ID: 39: [32, 33, 21, 22, 40, 30, 31]\n",
      "ID: 40: [33, 39, 22, 23, 41, 42]\n",
      "ID: 41: [23, 40, 24, 42, 43]\n",
      "ID: 42: [33, 34, 35, 40, 41, 43, 44]\n",
      "ID: 43: [24, 25, 42, 44, 45, 41]\n",
      "ID: 44: [48, 35, 36, 42, 43, 45]\n",
      "ID: 45: [43, 44, 46, 47, 48, 49, 25, 26]\n",
      "ID: 46: [50, 26, 27, 28, 45, 47]\n",
      "ID: 47: [49, 50, 52, 45, 46]\n",
      "ID: 48: [49, 51, 36, 37, 44, 45]\n",
      "ID: 49: [48, 51, 52, 54, 45, 47]\n",
      "ID: 50: [52, 56, 58, 59, 28, 46, 47]\n",
      "ID: 51: [48, 49, 37, 54, 53]\n",
      "ID: 52: [49, 50, 54, 59, 60, 47]\n",
      "ID: 53: [51, 37, 54, 38, 55, 63]\n",
      "ID: 54: [49, 51, 52, 53, 55, 60, 61]\n",
      "ID: 55: [64, 65, 66, 53, 54, 61, 62, 63]\n",
      "ID: 56: [57, 50, 58, 28]\n",
      "ID: 57: [56, 58]\n",
      "ID: 58: [56, 57, 50, 59]\n",
      "ID: 59: [50, 52, 58, 60]\n",
      "ID: 60: [59, 52, 61, 54]\n",
      "ID: 61: [62, 60, 54, 55]\n",
      "ID: 62: [66, 67, 68, 55, 61]\n",
      "ID: 63: [64, 53, 38, 55]\n",
      "ID: 64: [65, 63, 55]\n",
      "ID: 65: [64, 66, 55]\n",
      "ID: 66: [65, 67, 62, 55]\n",
      "ID: 67: [66, 68, 62]\n",
      "ID: 68: [67, 62]\n",
      "ID: 69: [70, 71]\n",
      "ID: 70: [69, 71, 72, 73, 76]\n",
      "ID: 71: [72, 69, 70]\n",
      "ID: 72: [74, 76, 70, 71]\n",
      "ID: 73: [76, 70]\n",
      "ID: 74: [72, 75, 76]\n",
      "ID: 75: [74, 76]\n",
      "ID: 76: [70, 72, 73, 74, 75]\n"
     ]
    }
   ],
   "source": [
    "for i in all_ids:\n",
    "    print(f'ID: {i}: {w_rook_final.neighbors[i]}')"
   ]
  },
  {
   "cell_type": "code",
   "execution_count": null,
   "metadata": {},
   "outputs": [],
   "source": []
  }
 ],
 "metadata": {
  "kernelspec": {
   "display_name": "Python 3",
   "language": "python",
   "name": "python3"
  },
  "language_info": {
   "codemirror_mode": {
    "name": "ipython",
    "version": 3
   },
   "file_extension": ".py",
   "mimetype": "text/x-python",
   "name": "python",
   "nbconvert_exporter": "python",
   "pygments_lexer": "ipython3",
   "version": "3.11.4"
  },
  "orig_nbformat": 4
 },
 "nbformat": 4,
 "nbformat_minor": 2
}
